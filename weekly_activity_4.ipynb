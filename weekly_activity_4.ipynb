{
 "cells": [
  {
   "cell_type": "markdown",
   "id": "4093563c",
   "metadata": {},
   "source": [
    "# Setup"
   ]
  },
  {
   "cell_type": "code",
   "execution_count": 1,
   "id": "978a2750",
   "metadata": {},
   "outputs": [
    {
     "data": {
      "text/plain": [
       "True"
      ]
     },
     "execution_count": 1,
     "metadata": {},
     "output_type": "execute_result"
    }
   ],
   "source": [
    "import sys\n",
    "# Python 3.7 is required\n",
    "assert sys.version_info >= (3,7)\n",
    "\n",
    "import cv2 as cv\n",
    "import numpy as np\n",
    "\n",
    "# For reproducibility,\n",
    "np.random.seed(99)\n",
    "\n",
    "# Make sure that optimization is enabled\n",
    "if not cv.useOptimized():\n",
    "    cv.setUseOptimized(True)\n",
    "\n",
    "cv.useOptimized()"
   ]
  },
  {
   "cell_type": "markdown",
   "id": "3d014342",
   "metadata": {},
   "source": [
    "# Question 1"
   ]
  },
  {
   "cell_type": "markdown",
   "id": "2eb33d34",
   "metadata": {},
   "source": [
    "# Method 1"
   ]
  },
  {
   "cell_type": "code",
   "execution_count": 2,
   "id": "eab7e4ab",
   "metadata": {},
   "outputs": [],
   "source": [
    "img = cv.imread('dog.jfif')    # default bgr\n",
    "img_grayscale = cv.imread('dog.jfif', 0)    # grayscale\n",
    "\n",
    "cv.imshow('original',img)\n",
    "cv.imshow('gray', img_grayscale)\n",
    "cv.waitKey(0)\n",
    "cv.destroyAllWindows()"
   ]
  },
  {
   "cell_type": "markdown",
   "id": "81d3feb9",
   "metadata": {},
   "source": [
    "# Method 2"
   ]
  },
  {
   "cell_type": "code",
   "execution_count": 3,
   "id": "65007310",
   "metadata": {},
   "outputs": [],
   "source": [
    "img1 = cv.imread(\"flower.jfif\") #original image\n",
    "\n",
    "img1_2dimension = cv.cvtColor(img1,cv.COLOR_BGR2GRAY) #convert original image to grayscale image with 2 dimensions\n",
    "img2 = cv.cvtColor(img1_2dimension,cv.COLOR_GRAY2BGR) #grayscale image with 3 dimensions\n",
    "\n",
    "combine_vertically = np.vstack((img1,img2)) #stack vertically\n",
    "\n",
    "cv.imshow('flower images with color and grayscale', combine_vertically)\n",
    "cv.waitKey(0)\n",
    "cv.destroyAllWindows()"
   ]
  },
  {
   "cell_type": "markdown",
   "id": "9dba4392",
   "metadata": {},
   "source": [
    "# Question 2"
   ]
  },
  {
   "cell_type": "code",
   "execution_count": 4,
   "id": "7b280388",
   "metadata": {},
   "outputs": [
    {
     "name": "stdout",
     "output_type": "stream",
     "text": [
      "(1920, 1080, 3)\n"
     ]
    }
   ],
   "source": [
    "# Create a VideoCapture object\n",
    "cap = cv.VideoCapture('img_pexels.mp4')\n",
    "\n",
    "ret, frame = cap.read()\n",
    "\n",
    "#to output the original video frame size\n",
    "print(frame.shape)"
   ]
  },
  {
   "cell_type": "code",
   "execution_count": 5,
   "id": "b93437e9",
   "metadata": {},
   "outputs": [],
   "source": [
    "fourcc = cv.VideoWriter_fourcc('M', 'J', 'P', 'G')\n",
    "out = cv.VideoWriter('smaller_img_pexels.avi',fourcc, 30.0,(720,480))\n",
    "\n",
    "# Check if the object has been created successfully\n",
    "if not cap.isOpened():\n",
    "    print(\"Unable to create video\")\n",
    "\n",
    "# Read until the video is completed.\n",
    "while cap.isOpened():\n",
    "    ret, frame = cap.read()\n",
    "    \n",
    "    if ret == True:\n",
    "        resize_frame = cv.resize(frame,(720,480),fx = 0,fy = 0) #convert it to a new frame size\n",
    "        out.write(resize_frame)\n",
    "    else:\n",
    "    # if frame is read then ret is True\n",
    "        print(\"Can't receive frame.\")\n",
    "        break\n",
    "    \n",
    "    cv.imshow('resized frame', resize_frame)\n",
    "    # Press Esc key to exit (27 is ASCII code for Esc). cv.waitKey() returns 32 bit integer values. You can find the ASCII table\n",
    "    # on this URL: https://theasciicode.com.ar/\n",
    "    if cv.waitKey(1) & 0xFF == 27:\n",
    "        break\n",
    "\n",
    "# destroy the constructor\n",
    "cap.release()\n",
    "cv.destroyAllWindows()\n",
    "out.release()"
   ]
  },
  {
   "cell_type": "markdown",
   "id": "0c6b858d",
   "metadata": {},
   "source": [
    "# Question 3"
   ]
  },
  {
   "cell_type": "markdown",
   "id": "89e3c9e4",
   "metadata": {},
   "source": [
    "# Create random noise color and grayscale image"
   ]
  },
  {
   "cell_type": "code",
   "execution_count": 6,
   "id": "5108c2ea",
   "metadata": {},
   "outputs": [],
   "source": [
    "#random noise with 3 dimensions array\n",
    "random_noise = np.random.randint(low = 0,high = 255, size= (250,250,3)\n",
    "                                 ,dtype = np.uint8)\n",
    "\n",
    "cv.imshow(\"random noise image\", random_noise)\n",
    "cv.waitKey(0)\n",
    "cv.destroyAllWindows()"
   ]
  },
  {
   "cell_type": "code",
   "execution_count": 7,
   "id": "6727f1db",
   "metadata": {},
   "outputs": [],
   "source": [
    "#convert it to a grayscale image\n",
    "gray_noise = cv.cvtColor(random_noise,cv.COLOR_BGR2GRAY)\n",
    "\n",
    "cv.imshow(\"gray noise image\", gray_noise)\n",
    "cv.waitKey(0)\n",
    "cv.destroyAllWindows()"
   ]
  },
  {
   "cell_type": "markdown",
   "id": "c44cad51",
   "metadata": {},
   "source": [
    "# Extract ROI of image"
   ]
  },
  {
   "cell_type": "code",
   "execution_count": 8,
   "id": "55568777",
   "metadata": {},
   "outputs": [
    {
     "name": "stdout",
     "output_type": "stream",
     "text": [
      "(183, 275, 3)\n"
     ]
    }
   ],
   "source": [
    "img = cv.imread('flower.jfif')\n",
    "\n",
    "#to output the original image size\n",
    "print (img.shape) "
   ]
  },
  {
   "cell_type": "code",
   "execution_count": 9,
   "id": "0d050860",
   "metadata": {},
   "outputs": [],
   "source": [
    "#(40 - 120) height,(90, 175)\n",
    "flower = img[40:120,90:175]\n",
    "cv.imshow('ROI of flower',flower)\n",
    "cv.waitKey(0)\n",
    "cv.destroyAllWindows()"
   ]
  },
  {
   "cell_type": "markdown",
   "id": "3786906b",
   "metadata": {},
   "source": [
    "# Enlarge the image"
   ]
  },
  {
   "cell_type": "code",
   "execution_count": 10,
   "id": "330d78bc",
   "metadata": {},
   "outputs": [],
   "source": [
    "#enlarge image with different interpolation methods\n",
    "img = cv.imread(\"dog.jfif\")\n",
    "\n",
    "#Resize: linear,cubic and nearest\n",
    "img_large_linear = cv.resize(img, None, fx = 2.5, fy = 2.5, interpolation = cv.INTER_LINEAR)\n",
    "img_large_cubic = cv.resize(img, None, fx = 2.5, fy = 2.5, interpolation = cv.INTER_CUBIC)\n",
    "img_large_nearest = cv.resize(img, None, fx = 2.5, fy = 2.5, interpolation = cv.INTER_NEAREST)\n",
    "\n",
    "cv.imshow('linear',img_large_linear)\n",
    "cv.imshow('cubic',img_large_cubic)\n",
    "cv.imshow('nearest',img_large_nearest)\n",
    "cv.waitKey(0)\n",
    "cv.destroyAllWindows()"
   ]
  },
  {
   "cell_type": "markdown",
   "id": "ff8dd02f",
   "metadata": {},
   "source": [
    "The differences is: resulting image from nearest neighbor interpolation is more jagged on the boundary of object (dog)"
   ]
  }
 ],
 "metadata": {
  "kernelspec": {
   "display_name": "Python 3",
   "language": "python",
   "name": "python3"
  },
  "language_info": {
   "codemirror_mode": {
    "name": "ipython",
    "version": 3
   },
   "file_extension": ".py",
   "mimetype": "text/x-python",
   "name": "python",
   "nbconvert_exporter": "python",
   "pygments_lexer": "ipython3",
   "version": "3.8.8"
  }
 },
 "nbformat": 4,
 "nbformat_minor": 5
}
