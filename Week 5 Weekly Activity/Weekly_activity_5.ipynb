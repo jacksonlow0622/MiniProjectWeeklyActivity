{
 "cells": [
  {
   "cell_type": "markdown",
   "id": "3c2117a7",
   "metadata": {},
   "source": [
    "# Setup"
   ]
  },
  {
   "cell_type": "code",
   "execution_count": 1,
   "id": "0cdc7663",
   "metadata": {},
   "outputs": [
    {
     "data": {
      "text/plain": [
       "True"
      ]
     },
     "execution_count": 1,
     "metadata": {},
     "output_type": "execute_result"
    }
   ],
   "source": [
    "import sys\n",
    "# Python 3.7 is required\n",
    "assert sys.version_info >= (3,7)\n",
    "\n",
    "import cv2 as cv\n",
    "import numpy as np\n",
    "\n",
    "# Make sure that optimization is enabled\n",
    "if not cv.useOptimized():\n",
    "    cv.setUseOptimized(True)\n",
    "\n",
    "cv.useOptimized()"
   ]
  },
  {
   "cell_type": "markdown",
   "id": "54d6915b",
   "metadata": {},
   "source": [
    "# Question 1"
   ]
  },
  {
   "cell_type": "code",
   "execution_count": 2,
   "id": "5a45d9bd",
   "metadata": {},
   "outputs": [],
   "source": [
    "def crop_grid(img, num_horizontal_grid, num_vertical_grid, line_color):\n",
    "    # img is the source image\n",
    "    # num_horizontal_grid and num_vertical_grid are the number of patches along x and y axes.\n",
    "    # line_color is the color of the grid line.\n",
    "    # The output of the function should be image with grids\n",
    "    img_copy = img.copy()\n",
    "    \n",
    "    height, width = img.shape[:2]\n",
    "    \n",
    "    M, N = int(height/num_horizontal_grid), int(width/num_vertical_grid)\n",
    "    x1, y1 = 0, 0\n",
    "\n",
    "    for y in range(0, height, M):\n",
    "        for x in range(0, width, N):\n",
    "    #         if (height - y) < M or (width - x) < N:\n",
    "    #             break\n",
    "\n",
    "            y1 = y + M    # lower right coordinate that will be used to construct rectangle\n",
    "            x1 = x + N\n",
    "\n",
    "            # Check whether patch lower right coordinate exceeds image height and width\n",
    "            if x1 >= width and y1 >= height:\n",
    "                x1 = width - 1\n",
    "                y1 = height - 1\n",
    "                cv.rectangle(img_copy, (x, y), (x1, y1), line_color, 1)\n",
    "            # When patch lower right y-coordinate exceeds patch height\n",
    "            elif y1 >= height:\n",
    "                y1 = height - 1\n",
    "                cv.rectangle(img_copy, (x, y), (x1, y1), line_color, 1)\n",
    "\n",
    "            # When patch lower right x-coordinate exceeds patch width\n",
    "            elif x1 >= width:\n",
    "                x1 = width - 1\n",
    "                cv.rectangle(img_copy, (x, y), (x1, y1), line_color, 1)\n",
    "\n",
    "            else:\n",
    "                cv.rectangle(img_copy, (x, y), (x1, y1), line_color, 1)\n",
    "    \n",
    "    cv.imshow('patched image', img_copy)\n",
    "    cv.waitKey(0)\n",
    "    cv.destroyAllWindows()"
   ]
  },
  {
   "cell_type": "code",
   "execution_count": 3,
   "id": "31f75127",
   "metadata": {},
   "outputs": [],
   "source": [
    "img = cv.imread('dog.jfif')\n",
    "crop_grid(img, 2, 3, (0,255,0))"
   ]
  },
  {
   "cell_type": "markdown",
   "id": "44a8f693",
   "metadata": {},
   "source": [
    "# Question 2"
   ]
  },
  {
   "cell_type": "code",
   "execution_count": 4,
   "id": "9647ecd7",
   "metadata": {},
   "outputs": [
    {
     "name": "stdout",
     "output_type": "stream",
     "text": [
      "[0.   0.01 0.02 0.03 0.04 0.05 0.06 0.07 0.08 0.09 0.1  0.11 0.12 0.13\n",
      " 0.14 0.15 0.16 0.17 0.18 0.19 0.2  0.21 0.22 0.23 0.24 0.25 0.26 0.27\n",
      " 0.28 0.29 0.3  0.31 0.32 0.33 0.34 0.35 0.36 0.37 0.38 0.39 0.4  0.41\n",
      " 0.42 0.43 0.44 0.45 0.46 0.47 0.48 0.49 0.5  0.51 0.52 0.53 0.54 0.55\n",
      " 0.56 0.57 0.58 0.59 0.6  0.61 0.62 0.63 0.64 0.65 0.66 0.67 0.68 0.69\n",
      " 0.7  0.71 0.72 0.73 0.74 0.75 0.76 0.77 0.78 0.79 0.8  0.81 0.82 0.83\n",
      " 0.84 0.85 0.86 0.87 0.88 0.89 0.9  0.91 0.92 0.93 0.94 0.95 0.96 0.97\n",
      " 0.98 0.99]\n"
     ]
    }
   ],
   "source": [
    "# get a array of int in the interval of 2\n",
    "list_int = np.arange(0, 100, 1)\n",
    "# declare a float array to use as alpha value\n",
    "list_float = np.zeros(len(list_int))\n",
    "\n",
    "for i in range(0, len(list_int), 1):\n",
    "    list_float[i] = list_int[i] / 100\n",
    "\n",
    "print(list_float)"
   ]
  },
  {
   "cell_type": "code",
   "execution_count": 5,
   "id": "f44cb76e",
   "metadata": {},
   "outputs": [],
   "source": [
    "img1 = cv.imread('lena.jfif')\n",
    "img2 = cv.imread('coins.jfif')\n",
    "\n",
    "# Resize img2\n",
    "new_shape = img1.shape[:2]\n",
    "img2 = cv.resize(img2, new_shape)\n",
    "\n",
    "# show image multiple in for loop to achieve smooth transition\n",
    "for i in range(0, len(list_float), 1):\n",
    "    dst = cv.addWeighted(img1, list_float[i], img2, 0.25, 0)\n",
    "    cv.imshow('blend_image', dst)\n",
    "    cv.waitKey(20)\n",
    "\n",
    "cv.waitKey(0)\n",
    "cv.destroyAllWindows()"
   ]
  },
  {
   "cell_type": "markdown",
   "id": "b0898f64",
   "metadata": {},
   "source": [
    "# Question 3"
   ]
  },
  {
   "cell_type": "code",
   "execution_count": 6,
   "id": "d0f1a29e",
   "metadata": {},
   "outputs": [],
   "source": [
    "img = cv.imread('lena.jfif')\n",
    "rows, cols = img.shape[:2]\n",
    "\n",
    "# Center coordinate\n",
    "image_center = ((cols-1)/2.0, (rows-1)/2.0)\n",
    "M = cv.getRotationMatrix2D(image_center, 45, 1)\n",
    "\n",
    "# Calculate the cosine and sine and take the absolutes of those\n",
    "abs_cos = abs(M[0,0]) \n",
    "abs_sin = abs(M[0,1])\n",
    "\n",
    "# get the new width and height\n",
    "new_width = int(rows * abs_sin + cols * abs_cos)\n",
    "new_height = int(rows * abs_cos + cols * abs_sin)\n",
    "\n",
    "# Setting the new center coordinate to make sure the image is center\n",
    "M[0, 2] += new_width/2 - image_center[0]\n",
    "M[1, 2] += new_height/2 - image_center[1]\n",
    "\n",
    "dst = cv.warpAffine(img, M, (new_width, new_height))\n",
    "\n",
    "cv.imshow('rotated_image', dst)\n",
    "cv.waitKey(0)\n",
    "cv.destroyAllWindows()"
   ]
  },
  {
   "cell_type": "markdown",
   "id": "8495fa3e",
   "metadata": {},
   "source": [
    "# Question 4"
   ]
  },
  {
   "cell_type": "code",
   "execution_count": 7,
   "id": "7b2baf20",
   "metadata": {},
   "outputs": [],
   "source": [
    "img1 = cv.imread('native-bee.png')\n",
    "img2 = cv.imread('flower.jfif')\n",
    "\n",
    "# change flower image from BGR to GRAY for getting the mask and resize to fit the bee image\n",
    "img2gray = cv.cvtColor(img2,cv.COLOR_BGR2GRAY)\n",
    "resized_img2 = np.zeros((img1.shape[0], img1.shape[1]), dtype = np.uint8)\n",
    "resized_img2[35:120, 88:175] = img2gray[35:120, 88:175]\n",
    "\n",
    "ret, mask = cv.threshold(resized_img2, 70, 255, cv.THRESH_BINARY)\n",
    "mask_inv = cv.bitwise_not(mask) # inverted mask is used to highlight what part need to be kept in bee image\n",
    "\n",
    "# get another image in BGR to paste it into bee image\n",
    "resized_img2_rgb = cv.cvtColor(resized_img2, cv.COLOR_GRAY2BGR)\n",
    "resized_img2_rgb[35:120, 88:175] = img2[35:120, 88:175]\n",
    "\n",
    "# black-out the area of the flower in ROI\n",
    "ROI = cv.bitwise_and(img1, img1, mask = mask_inv)\n",
    "\n",
    "# Take only region of flower from the image.\n",
    "flower = cv.bitwise_and(resized_img2_rgb, resized_img2_rgb, mask = mask)\n",
    "\n",
    "# Put flower in ROI\n",
    "dst = cv.add(ROI, flower)\n",
    "\n",
    "cv.imshow('flower_bee', dst)\n",
    "cv.waitKey(0)\n",
    "cv.destroyAllWindows()"
   ]
  },
  {
   "cell_type": "code",
   "execution_count": null,
   "id": "e781b8fd",
   "metadata": {},
   "outputs": [],
   "source": []
  }
 ],
 "metadata": {
  "kernelspec": {
   "display_name": "Python 3",
   "language": "python",
   "name": "python3"
  },
  "language_info": {
   "codemirror_mode": {
    "name": "ipython",
    "version": 3
   },
   "file_extension": ".py",
   "mimetype": "text/x-python",
   "name": "python",
   "nbconvert_exporter": "python",
   "pygments_lexer": "ipython3",
   "version": "3.8.8"
  }
 },
 "nbformat": 4,
 "nbformat_minor": 5
}
